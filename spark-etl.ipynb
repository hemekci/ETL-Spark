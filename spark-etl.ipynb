{
 "cells": [
  {
   "cell_type": "markdown",
   "id": "4be5ca89-42cb-4b26-95d0-0521a57de7e6",
   "metadata": {},
   "source": [
    "# BASIC ETL WITH SPARK"
   ]
  },
  {
   "cell_type": "markdown",
   "id": "1d1de795-f593-448f-ae6c-01287f57c44b",
   "metadata": {},
   "source": [
    "## Download Raw Data"
   ]
  },
  {
   "cell_type": "code",
   "execution_count": 1,
   "id": "e774ba2c-f51a-4c4e-b5cf-ede95990e00d",
   "metadata": {},
   "outputs": [
    {
     "name": "stdout",
     "output_type": "stream",
     "text": [
      "--2023-02-23 10:56:52--  https://github.com/erkansirin78/datasets/raw/master/dirty_store_transactions.csv\n",
      "Resolving github.com (github.com)... 140.82.121.4\n",
      "Connecting to github.com (github.com)|140.82.121.4|:443... connected.\n",
      "HTTP request sent, awaiting response... 302 Found\n",
      "Location: https://raw.githubusercontent.com/erkansirin78/datasets/master/dirty_store_transactions.csv [following]\n",
      "--2023-02-23 10:56:53--  https://raw.githubusercontent.com/erkansirin78/datasets/master/dirty_store_transactions.csv\n",
      "Resolving raw.githubusercontent.com (raw.githubusercontent.com)... 185.199.110.133, 185.199.111.133, 185.199.108.133, ...\n",
      "Connecting to raw.githubusercontent.com (raw.githubusercontent.com)|185.199.110.133|:443... connected.\n",
      "HTTP request sent, awaiting response... 200 OK\n",
      "Length: 2609524 (2.5M) [text/plain]\n",
      "Saving to: ‘dirty_store_transactions.csv’\n",
      "\n",
      "dirty_store_transac 100%[===================>]   2.49M  2.16MB/s    in 1.2s    \n",
      "\n",
      "2023-02-23 10:56:55 (2.16 MB/s) - ‘dirty_store_transactions.csv’ saved [2609524/2609524]\n",
      "\n"
     ]
    }
   ],
   "source": [
    "!wget https://github.com/erkansirin78/datasets/raw/master/dirty_store_transactions.csv"
   ]
  },
  {
   "cell_type": "markdown",
   "id": "547fa15d-efbe-4168-9cad-7a2e8ecb3e49",
   "metadata": {},
   "source": [
    "## Data Cleaning"
   ]
  },
  {
   "cell_type": "code",
   "execution_count": 1,
   "id": "1523f324-2877-4a0f-8118-da042ff8c6c3",
   "metadata": {},
   "outputs": [],
   "source": [
    "from pyspark.sql import SparkSession, functions as F"
   ]
  },
  {
   "cell_type": "code",
   "execution_count": 2,
   "id": "45deb701-0ffc-4563-8db8-b97080e27511",
   "metadata": {},
   "outputs": [
    {
     "name": "stderr",
     "output_type": "stream",
     "text": [
      "2023-03-01 11:38:27,793 WARN util.Utils: Your hostname, emk-Aspire-A514-52 resolves to a loopback address: 127.0.1.1; using 192.168.1.24 instead (on interface wlp2s0)\n",
      "2023-03-01 11:38:27,794 WARN util.Utils: Set SPARK_LOCAL_IP if you need to bind to another address\n",
      "2023-03-01 11:38:28,439 WARN util.NativeCodeLoader: Unable to load native-hadoop library for your platform... using builtin-java classes where applicable\n",
      "Setting default log level to \"WARN\".\n",
      "To adjust logging level use sc.setLogLevel(newLevel). For SparkR, use setLogLevel(newLevel).\n"
     ]
    }
   ],
   "source": [
    "spark = SparkSession.builder \\\n",
    ".master(\"local[2]\") \\\n",
    ".appName(\"SparkExperiment\") \\\n",
    ".getOrCreate()"
   ]
  },
  {
   "cell_type": "code",
   "execution_count": 3,
   "id": "622dded0-b3f6-4def-b716-4f4d38f84bcd",
   "metadata": {},
   "outputs": [],
   "source": [
    "df = spark.read \\\n",
    ".format(\"csv\") \\\n",
    ".option(\"header\", True) \\\n",
    ".option(\"sep\", \",\") \\\n",
    ".option(\"inferSchema\", True) \\\n",
    ".load(\"file:///home/emk/dirty_store_transactions.csv\")"
   ]
  },
  {
   "cell_type": "code",
   "execution_count": 4,
   "id": "a01a9df0-ba70-4364-9848-7ff13b43c92e",
   "metadata": {},
   "outputs": [
    {
     "name": "stdout",
     "output_type": "stream",
     "text": [
      "+--------+--------------+----------------+----------+---+------+--------+------+----------+\n",
      "|STORE_ID|STORE_LOCATION|PRODUCT_CATEGORY|PRODUCT_ID|MRP|    CP|DISCOUNT|    SP|      Date|\n",
      "+--------+--------------+----------------+----------+---+------+--------+------+----------+\n",
      "|  YR7220|     New York(|     Electronics|  12254943|$31|$20.77|   $1.86|$29.14|2019-11-26|\n",
      "|  YR7220|     New York+|       Furniture| 72619323C|$15| $9.75|    $1.5| $13.5|2019-11-26|\n",
      "|  YR7220|     New York |     Electronics| 34161682B|$88|$62.48|    $4.4| $83.6|2019-11-26|\n",
      "|  YR7220|     New York!|         Kitchen|  79411621|$91|$58.24|   $3.64|$87.36|2019-11-26|\n",
      "|  YR7220|      New York|         Fashion| 39520263T|$85|   $51|   $2.55|$82.45|2019-11-26|\n",
      "|  YR7220|      New York|         Kitchen|  93809204|$37|$24.05|   $0.74|$36.26|2019-11-26|\n",
      "|  YR7220|      New York|       Cosmetics| 86610412D|$80| $48.8|    $6.4| $73.6|2019-11-26|\n",
      "|  YR7220|     New York$|         Kitchen| 52503356^|$71| $42.6|   $5.68|$65.32|2019-11-26|\n",
      "|  YR7220|      New York|         Kitchen|  77516479|$92|$56.12|   $3.68|$88.32|2019-11-26|\n",
      "|  YR7220|     New York!|       Cosmetics|  47334289|$16|$10.72|   $0.96|$15.04|2019-11-26|\n",
      "|  YR7220|    New York\"\"|       Cosmetics| 87566223^|$38|$23.18|   $2.66|$35.34|2019-11-26|\n",
      "|  YR7220|      New York|     Electronics| 54074401^|$26|$17.68|   $0.52|$25.48|2019-11-26|\n",
      "|  YR7220|      New York|         Fashion| 24246520G|$45|$30.15|   $1.35|$43.65|2019-11-26|\n",
      "|  YR7220|      New York|       Cosmetics|  61138610|$83|$57.27|   $1.66|$81.34|2019-11-26|\n",
      "|  YR7220|      New York|         Kitchen|  69018554|$55| $37.4|   $1.65|$53.35|2019-11-26|\n",
      "|  YR7220|      New York|       Groceries| 11950073P|$13| $7.93|   $0.39|$12.61|2019-11-26|\n",
      "|  YR7220|      New York|         Fashion|  86404418|$69| $48.3|   $4.83|$64.17|2019-11-26|\n",
      "|  YR7220|     New York+|         Fashion|  91763000|$18| $11.7|   $0.36|$17.64|2019-11-26|\n",
      "|  YR7220|      New York|       Groceries|  53648681|$52|$36.92|   $1.04|$50.96|2019-11-26|\n",
      "|  YR7220|      New York|       Groceries| 15652465T|$29|$18.85|   $2.03|$26.97|2019-11-26|\n",
      "+--------+--------------+----------------+----------+---+------+--------+------+----------+\n",
      "only showing top 20 rows\n",
      "\n"
     ]
    }
   ],
   "source": [
    "df.show()"
   ]
  },
  {
   "cell_type": "code",
   "execution_count": 5,
   "id": "5bef6505-a1d5-4c2b-bbba-83e82cf38994",
   "metadata": {},
   "outputs": [
    {
     "name": "stdout",
     "output_type": "stream",
     "text": [
      "root\n",
      " |-- STORE_ID: string (nullable = true)\n",
      " |-- STORE_LOCATION: string (nullable = true)\n",
      " |-- PRODUCT_CATEGORY: string (nullable = true)\n",
      " |-- PRODUCT_ID: string (nullable = true)\n",
      " |-- MRP: string (nullable = true)\n",
      " |-- CP: string (nullable = true)\n",
      " |-- DISCOUNT: string (nullable = true)\n",
      " |-- SP: string (nullable = true)\n",
      " |-- Date: string (nullable = true)\n",
      "\n"
     ]
    }
   ],
   "source": [
    "df.printSchema()"
   ]
  },
  {
   "cell_type": "code",
   "execution_count": 6,
   "id": "7f250308-4458-47f0-93d6-4a6c212eab84",
   "metadata": {},
   "outputs": [
    {
     "name": "stdout",
     "output_type": "stream",
     "text": [
      "['STORE_ID', 'STORE_LOCATION', 'PRODUCT_CATEGORY', 'PRODUCT_ID', 'MRP', 'CP', 'DISCOUNT', 'SP', 'Date']\n"
     ]
    }
   ],
   "source": [
    "df2 = df\n",
    "str_cols = [col[0] for col in df.dtypes if col[1] == 'string']\n",
    "print(str_cols)\n"
   ]
  },
  {
   "cell_type": "code",
   "execution_count": 8,
   "id": "3ce4bbc0-6bd9-4e4e-9c43-4db22917dfd2",
   "metadata": {},
   "outputs": [
    {
     "name": "stdout",
     "output_type": "stream",
     "text": [
      "+--------+--------------+----------------+----------+---+-----+--------+-----+----------+\n",
      "|STORE_ID|STORE_LOCATION|PRODUCT_CATEGORY|PRODUCT_ID|MRP|   CP|DISCOUNT|   SP|      Date|\n",
      "+--------+--------------+----------------+----------+---+-----+--------+-----+----------+\n",
      "|  YR7220|      New York|     Electronics|  12254943| 31|20.77|    1.86|29.14|2019-11-26|\n",
      "|  YR7220|      New York|       Furniture| 72619323C| 15| 9.75|     1.5| 13.5|2019-11-26|\n",
      "|  YR7220|     New York |     Electronics| 34161682B| 88|62.48|     4.4| 83.6|2019-11-26|\n",
      "|  YR7220|      New York|         Kitchen|  79411621| 91|58.24|    3.64|87.36|2019-11-26|\n",
      "|  YR7220|      New York|         Fashion| 39520263T| 85|   51|    2.55|82.45|2019-11-26|\n",
      "|  YR7220|      New York|         Kitchen|  93809204| 37|24.05|    0.74|36.26|2019-11-26|\n",
      "|  YR7220|      New York|       Cosmetics| 86610412D| 80| 48.8|     6.4| 73.6|2019-11-26|\n",
      "|  YR7220|      New York|         Kitchen|  52503356| 71| 42.6|    5.68|65.32|2019-11-26|\n",
      "|  YR7220|      New York|         Kitchen|  77516479| 92|56.12|    3.68|88.32|2019-11-26|\n",
      "|  YR7220|      New York|       Cosmetics|  47334289| 16|10.72|    0.96|15.04|2019-11-26|\n",
      "|  YR7220|      New York|       Cosmetics|  87566223| 38|23.18|    2.66|35.34|2019-11-26|\n",
      "|  YR7220|      New York|     Electronics|  54074401| 26|17.68|    0.52|25.48|2019-11-26|\n",
      "|  YR7220|      New York|         Fashion| 24246520G| 45|30.15|    1.35|43.65|2019-11-26|\n",
      "|  YR7220|      New York|       Cosmetics|  61138610| 83|57.27|    1.66|81.34|2019-11-26|\n",
      "|  YR7220|      New York|         Kitchen|  69018554| 55| 37.4|    1.65|53.35|2019-11-26|\n",
      "|  YR7220|      New York|       Groceries| 11950073P| 13| 7.93|    0.39|12.61|2019-11-26|\n",
      "|  YR7220|      New York|         Fashion|  86404418| 69| 48.3|    4.83|64.17|2019-11-26|\n",
      "|  YR7220|      New York|         Fashion|  91763000| 18| 11.7|    0.36|17.64|2019-11-26|\n",
      "|  YR7220|      New York|       Groceries|  53648681| 52|36.92|    1.04|50.96|2019-11-26|\n",
      "|  YR7220|      New York|       Groceries| 15652465T| 29|18.85|    2.03|26.97|2019-11-26|\n",
      "+--------+--------------+----------------+----------+---+-----+--------+-----+----------+\n",
      "only showing top 20 rows\n",
      "\n"
     ]
    }
   ],
   "source": [
    "df2 = df\n",
    "for col in str_cols:\n",
    "    df2 = df2.withColumn(col,F.regexp_replace(col, '[$+()!\"^]', \"\"))\n",
    "\n",
    "df2.show()"
   ]
  },
  {
   "cell_type": "code",
   "execution_count": 9,
   "id": "d69c01dc-060a-40f7-856c-630e90f8321a",
   "metadata": {},
   "outputs": [
    {
     "name": "stdout",
     "output_type": "stream",
     "text": [
      "+--------+--------------+----------------+----------+---+-----+--------+-----+----------+\n",
      "|STORE_ID|STORE_LOCATION|PRODUCT_CATEGORY|PRODUCT_ID|MRP|   CP|DISCOUNT|   SP|      Date|\n",
      "+--------+--------------+----------------+----------+---+-----+--------+-----+----------+\n",
      "|  YR7220|      New York|     Electronics|  12254943| 31|20.77|    1.86|29.14|2019-11-26|\n",
      "|  YR7220|      New York|       Furniture| 72619323C| 15| 9.75|     1.5| 13.5|2019-11-26|\n",
      "|  YR7220|      New York|     Electronics| 34161682B| 88|62.48|     4.4| 83.6|2019-11-26|\n",
      "|  YR7220|      New York|         Kitchen|  79411621| 91|58.24|    3.64|87.36|2019-11-26|\n",
      "|  YR7220|      New York|         Fashion| 39520263T| 85|   51|    2.55|82.45|2019-11-26|\n",
      "|  YR7220|      New York|         Kitchen|  93809204| 37|24.05|    0.74|36.26|2019-11-26|\n",
      "|  YR7220|      New York|       Cosmetics| 86610412D| 80| 48.8|     6.4| 73.6|2019-11-26|\n",
      "|  YR7220|      New York|         Kitchen|  52503356| 71| 42.6|    5.68|65.32|2019-11-26|\n",
      "|  YR7220|      New York|         Kitchen|  77516479| 92|56.12|    3.68|88.32|2019-11-26|\n",
      "|  YR7220|      New York|       Cosmetics|  47334289| 16|10.72|    0.96|15.04|2019-11-26|\n",
      "|  YR7220|      New York|       Cosmetics|  87566223| 38|23.18|    2.66|35.34|2019-11-26|\n",
      "|  YR7220|      New York|     Electronics|  54074401| 26|17.68|    0.52|25.48|2019-11-26|\n",
      "|  YR7220|      New York|         Fashion| 24246520G| 45|30.15|    1.35|43.65|2019-11-26|\n",
      "|  YR7220|      New York|       Cosmetics|  61138610| 83|57.27|    1.66|81.34|2019-11-26|\n",
      "|  YR7220|      New York|         Kitchen|  69018554| 55| 37.4|    1.65|53.35|2019-11-26|\n",
      "|  YR7220|      New York|       Groceries| 11950073P| 13| 7.93|    0.39|12.61|2019-11-26|\n",
      "|  YR7220|      New York|         Fashion|  86404418| 69| 48.3|    4.83|64.17|2019-11-26|\n",
      "|  YR7220|      New York|         Fashion|  91763000| 18| 11.7|    0.36|17.64|2019-11-26|\n",
      "|  YR7220|      New York|       Groceries|  53648681| 52|36.92|    1.04|50.96|2019-11-26|\n",
      "|  YR7220|      New York|       Groceries| 15652465T| 29|18.85|    2.03|26.97|2019-11-26|\n",
      "+--------+--------------+----------------+----------+---+-----+--------+-----+----------+\n",
      "only showing top 20 rows\n",
      "\n"
     ]
    }
   ],
   "source": [
    "df3 = df2\n",
    "for col in str_cols:\n",
    "    df3 = df3.withColumn(col, F.trim(col))\n",
    "\n",
    "df3.show()"
   ]
  },
  {
   "cell_type": "markdown",
   "id": "e553cb9e-66f6-4eef-95d1-4931bd5a38f8",
   "metadata": {},
   "source": [
    "##  Write clean data to hdfs `/user/train/spark_transaction` in parquet format."
   ]
  },
  {
   "cell_type": "code",
   "execution_count": null,
   "id": "479dcf2a-398f-44be-b90a-b5b2077f45fc",
   "metadata": {},
   "outputs": [],
   "source": [
    "## start-all.sh to start predefined hive/hadoop/sqoop etc on my machine"
   ]
  },
  {
   "cell_type": "code",
   "execution_count": 10,
   "id": "ff3c7173-e279-4c5d-a3a2-362d9cef139b",
   "metadata": {},
   "outputs": [],
   "source": [
    "import findspark"
   ]
  },
  {
   "cell_type": "code",
   "execution_count": 11,
   "id": "436e06d6-4998-4304-a6f0-3b0de1c5b098",
   "metadata": {},
   "outputs": [],
   "source": [
    "findspark.init(\"/opt/spark\")"
   ]
  },
  {
   "cell_type": "code",
   "execution_count": 12,
   "id": "a58d18da-d10e-412b-8e78-c368a233708d",
   "metadata": {},
   "outputs": [],
   "source": [
    "from pyspark.sql import SparkSession, functions as F\n",
    "from pyspark.sql.types import  *"
   ]
  },
  {
   "cell_type": "code",
   "execution_count": 13,
   "id": "8b724cd8-1650-4518-92dc-713d5f6fec8b",
   "metadata": {},
   "outputs": [],
   "source": [
    "spark = SparkSession.builder \\\n",
    ".appName(\"DataframeWriter ORC\") \\\n",
    ".master(\"yarn\") \\\n",
    ".enableHiveSupport() \\\n",
    ".getOrCreate()"
   ]
  },
  {
   "cell_type": "code",
   "execution_count": 14,
   "id": "256eeb28-e0b1-4e10-9c92-0a4f363fe6db",
   "metadata": {},
   "outputs": [],
   "source": [
    "import time"
   ]
  },
  {
   "cell_type": "code",
   "execution_count": 15,
   "id": "35f91b76-00ec-412f-8b32-aae4e51c9578",
   "metadata": {},
   "outputs": [
    {
     "name": "stderr",
     "output_type": "stream",
     "text": [
      "[Stage 6:>                                                          (0 + 1) / 1]\r"
     ]
    },
    {
     "name": "stdout",
     "output_type": "stream",
     "text": [
      "----------- 3.054807424545288 secs ----------\n"
     ]
    },
    {
     "name": "stderr",
     "output_type": "stream",
     "text": [
      "                                                                                \r"
     ]
    }
   ],
   "source": [
    "start_time = time.time()\n",
    "\n",
    "df3.write \\\n",
    ".format(\"parquet\") \\\n",
    ".mode(\"overwrite\") \\\n",
    ".save(\"hdfs://localhost:9000/user/train/output_data/spark_odev_transaction\")\n",
    "\n",
    "\n",
    "print(\"----------- %s secs ----------\" %(time.time() - start_time))"
   ]
  },
  {
   "cell_type": "code",
   "execution_count": 16,
   "id": "ec3a9e93-101b-44e7-9abc-feca40c7cd0b",
   "metadata": {},
   "outputs": [
    {
     "name": "stdout",
     "output_type": "stream",
     "text": [
      "Found 2 items\n",
      "-rw-r--r--   1 emk supergroup          0 2023-03-01 11:40 /user/train/output_data/spark_odev_transaction/_SUCCESS\n",
      "-rw-r--r--   1 emk supergroup    244.7 K 2023-03-01 11:40 /user/train/output_data/spark_odev_transaction/part-00000-59021861-df8f-4fce-9875-91c4dea85deb-c000.snappy.parquet\n"
     ]
    }
   ],
   "source": [
    "!hdfs dfs -ls -h /user/train/output_data/spark_odev_transaction\n",
    "\n",
    "#UI http://localhost:9870/"
   ]
  },
  {
   "cell_type": "code",
   "execution_count": null,
   "id": "9e0049d0-5ea7-4b18-9ac4-82ebaf0314a6",
   "metadata": {},
   "outputs": [],
   "source": []
  }
 ],
 "metadata": {
  "kernelspec": {
   "display_name": "spark_venv",
   "language": "python",
   "name": "spark_venv"
  },
  "language_info": {
   "codemirror_mode": {
    "name": "ipython",
    "version": 3
   },
   "file_extension": ".py",
   "mimetype": "text/x-python",
   "name": "python",
   "nbconvert_exporter": "python",
   "pygments_lexer": "ipython3",
   "version": "3.8.10"
  }
 },
 "nbformat": 4,
 "nbformat_minor": 5
}
